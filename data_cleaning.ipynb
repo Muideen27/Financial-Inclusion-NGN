{
 "cells": [
  {
   "cell_type": "code",
   "execution_count": 2,
   "id": "212571a1",
   "metadata": {},
   "outputs": [
    {
     "name": "stdout",
     "output_type": "stream",
     "text": [
      "Requirement already satisfied: pyreadstat in c:\\users\\open user\\anaconda3\\lib\\site-packages (1.2.7)\n",
      "Requirement already satisfied: pandas in c:\\users\\open user\\anaconda3\\lib\\site-packages (2.0.3)\n",
      "Requirement already satisfied: nbformat in c:\\users\\open user\\anaconda3\\lib\\site-packages (5.9.2)\n",
      "Requirement already satisfied: python-dateutil>=2.8.2 in c:\\users\\open user\\anaconda3\\lib\\site-packages (from pandas) (2.8.2)\n",
      "Requirement already satisfied: pytz>=2020.1 in c:\\users\\open user\\anaconda3\\lib\\site-packages (from pandas) (2023.3.post1)\n",
      "Requirement already satisfied: tzdata>=2022.1 in c:\\users\\open user\\anaconda3\\lib\\site-packages (from pandas) (2023.3)\n",
      "Requirement already satisfied: numpy>=1.21.0 in c:\\users\\open user\\anaconda3\\lib\\site-packages (from pandas) (1.24.3)\n",
      "Requirement already satisfied: fastjsonschema in c:\\users\\open user\\anaconda3\\lib\\site-packages (from nbformat) (2.16.2)\n",
      "Requirement already satisfied: jsonschema>=2.6 in c:\\users\\open user\\anaconda3\\lib\\site-packages (from nbformat) (4.17.3)\n",
      "Requirement already satisfied: jupyter-core in c:\\users\\open user\\anaconda3\\lib\\site-packages (from nbformat) (5.3.0)\n",
      "Requirement already satisfied: traitlets>=5.1 in c:\\users\\open user\\anaconda3\\lib\\site-packages (from nbformat) (5.7.1)\n",
      "Requirement already satisfied: attrs>=17.4.0 in c:\\users\\open user\\anaconda3\\lib\\site-packages (from jsonschema>=2.6->nbformat) (22.1.0)\n",
      "Requirement already satisfied: pyrsistent!=0.17.0,!=0.17.1,!=0.17.2,>=0.14.0 in c:\\users\\open user\\anaconda3\\lib\\site-packages (from jsonschema>=2.6->nbformat) (0.18.0)\n",
      "Requirement already satisfied: six>=1.5 in c:\\users\\open user\\anaconda3\\lib\\site-packages (from python-dateutil>=2.8.2->pandas) (1.16.0)\n",
      "Requirement already satisfied: platformdirs>=2.5 in c:\\users\\open user\\anaconda3\\lib\\site-packages (from jupyter-core->nbformat) (3.10.0)\n",
      "Requirement already satisfied: pywin32>=300 in c:\\users\\open user\\anaconda3\\lib\\site-packages (from jupyter-core->nbformat) (305.1)\n"
     ]
    }
   ],
   "source": [
    "!pip install pyreadstat pandas nbformat"
   ]
  },
  {
   "cell_type": "code",
   "execution_count": 3,
   "id": "27d6e1d9",
   "metadata": {},
   "outputs": [],
   "source": [
    "import pandas as pd\n",
    "import pyreadstat\n",
    "import nbformat as nbf\n",
    "\n",
    "# Load the dataset from .sav file\n",
    "file_path = \"C:\\\\Users\\\\Open User\\\\Downloads\\\\A2F-2023-Survey-Dataset-for-publishing\\\\A2F-2023-Survey-Dataset-for-publishing.sav\"\n",
    "df, meta = pyreadstat.read_sav(file_path)"
   ]
  },
  {
   "cell_type": "code",
   "execution_count": 4,
   "id": "79d2a61c",
   "metadata": {},
   "outputs": [
    {
     "name": "stdout",
     "output_type": "stream",
     "text": [
      "   state_code   e6  respondent_serial    indiv_wgt      cal_wgt  final_hh_wgt  \\\n",
      "0        11.0  1.0          3662958.0  8027.979492  9042.967773   2318.346680   \n",
      "1         2.0  2.0          3666648.0  1700.458740  1740.461914    925.415466   \n",
      "2         2.0  2.0          3629597.0  1531.927246  1567.965698    878.360413   \n",
      "3         2.0  2.0          3683870.0  2532.369629  2591.943359   1129.320557   \n",
      "4        28.0  2.0          3514652.0  3860.002197  8432.709961   1073.655273   \n",
      "\n",
      "   region state_name    lga_name                locality_name  ...  \\\n",
      "0     1.0     KADUNA  SABON GARI                  JUSHIN WAJE  ...   \n",
      "1     1.0    ZAMFARA     BUNGUDU  GIDAN SARKIN NOMA DAN GAUDE  ...   \n",
      "2     1.0    ZAMFARA       ZURMI                      MARMARO  ...   \n",
      "3     1.0    ZAMFARA    SHINKAFI                       KATURU  ...   \n",
      "4     2.0     EBONYI      EBONYI                    EPHUENYIM  ...   \n",
      "\n",
      "  FinNeeds_TRANSFERofVALUE  Target_groups Savings_group  Cooperative  \\\n",
      "0                      1.0            5.0           0.0          0.0   \n",
      "1                      1.0            5.0           0.0          0.0   \n",
      "2                      1.0            5.0           0.0          0.0   \n",
      "3                      1.0            5.0           0.0          0.0   \n",
      "4                      1.0            5.0           0.0          0.0   \n",
      "\n",
      "  Village_Comm_association Savings_thrift Microfinance Money_lender  \\\n",
      "0                      0.0            0.0          NaN          NaN   \n",
      "1                      0.0            0.0          NaN          NaN   \n",
      "2                      0.0            0.0          NaN          NaN   \n",
      "3                      0.0            0.0          NaN          NaN   \n",
      "4                      0.0            0.0          NaN          NaN   \n",
      "\n",
      "  FinHealth_Indicator_FINAL Finlit_Cap_Final  \n",
      "0                       0.0              0.0  \n",
      "1                       0.0              1.0  \n",
      "2                       0.0              0.0  \n",
      "3                       0.0              0.0  \n",
      "4                       2.0              0.0  \n",
      "\n",
      "[5 rows x 1611 columns]\n"
     ]
    }
   ],
   "source": [
    "# Display the first few rows of the DataFrame\n",
    "print(df.head())"
   ]
  },
  {
   "cell_type": "code",
   "execution_count": 5,
   "id": "7be64dd7",
   "metadata": {},
   "outputs": [],
   "source": [
    "df.to_csv(\"data.csv\")"
   ]
  },
  {
   "cell_type": "code",
   "execution_count": 8,
   "id": "ba21c26c",
   "metadata": {},
   "outputs": [],
   "source": [
    "df=pd.read_csv(\"data.csv\", low_memory=False)"
   ]
  },
  {
   "cell_type": "code",
   "execution_count": 10,
   "id": "8146ae1e",
   "metadata": {},
   "outputs": [
    {
     "name": "stdout",
     "output_type": "stream",
     "text": [
      "   Unnamed: 0  state_code   e6  respondent_serial    indiv_wgt      cal_wgt  \\\n",
      "0           0        11.0  1.0          3662958.0  8027.979492  9042.967773   \n",
      "1           1         2.0  2.0          3666648.0  1700.458740  1740.461914   \n",
      "2           2         2.0  2.0          3629597.0  1531.927246  1567.965698   \n",
      "3           3         2.0  2.0          3683870.0  2532.369629  2591.943359   \n",
      "4           4        28.0  2.0          3514652.0  3860.002197  8432.709961   \n",
      "\n",
      "   final_hh_wgt  region state_name    lga_name  ... FinNeeds_TRANSFERofVALUE  \\\n",
      "0   2318.346680     1.0     KADUNA  SABON GARI  ...                      1.0   \n",
      "1    925.415466     1.0    ZAMFARA     BUNGUDU  ...                      1.0   \n",
      "2    878.360413     1.0    ZAMFARA       ZURMI  ...                      1.0   \n",
      "3   1129.320557     1.0    ZAMFARA    SHINKAFI  ...                      1.0   \n",
      "4   1073.655273     2.0     EBONYI      EBONYI  ...                      1.0   \n",
      "\n",
      "  Target_groups  Savings_group  Cooperative  Village_Comm_association  \\\n",
      "0           5.0            0.0          0.0                       0.0   \n",
      "1           5.0            0.0          0.0                       0.0   \n",
      "2           5.0            0.0          0.0                       0.0   \n",
      "3           5.0            0.0          0.0                       0.0   \n",
      "4           5.0            0.0          0.0                       0.0   \n",
      "\n",
      "   Savings_thrift  Microfinance  Money_lender  FinHealth_Indicator_FINAL  \\\n",
      "0             0.0           NaN           NaN                        0.0   \n",
      "1             0.0           NaN           NaN                        0.0   \n",
      "2             0.0           NaN           NaN                        0.0   \n",
      "3             0.0           NaN           NaN                        0.0   \n",
      "4             0.0           NaN           NaN                        2.0   \n",
      "\n",
      "   Finlit_Cap_Final  \n",
      "0               0.0  \n",
      "1               1.0  \n",
      "2               0.0  \n",
      "3               0.0  \n",
      "4               0.0  \n",
      "\n",
      "[5 rows x 1612 columns]\n"
     ]
    }
   ],
   "source": [
    "print(df.head())"
   ]
  },
  {
   "cell_type": "code",
   "execution_count": 11,
   "id": "af6e6a24",
   "metadata": {},
   "outputs": [
    {
     "data": {
      "text/plain": [
       "0"
      ]
     },
     "execution_count": 11,
     "metadata": {},
     "output_type": "execute_result"
    }
   ],
   "source": [
    "df.duplicated().sum()"
   ]
  },
  {
   "cell_type": "code",
   "execution_count": null,
   "id": "ac99eadc",
   "metadata": {},
   "outputs": [],
   "source": []
  }
 ],
 "metadata": {
  "kernelspec": {
   "display_name": "Python 3 (ipykernel)",
   "language": "python",
   "name": "python3"
  },
  "language_info": {
   "codemirror_mode": {
    "name": "ipython",
    "version": 3
   },
   "file_extension": ".py",
   "mimetype": "text/x-python",
   "name": "python",
   "nbconvert_exporter": "python",
   "pygments_lexer": "ipython3",
   "version": "3.11.5"
  }
 },
 "nbformat": 4,
 "nbformat_minor": 5
}
